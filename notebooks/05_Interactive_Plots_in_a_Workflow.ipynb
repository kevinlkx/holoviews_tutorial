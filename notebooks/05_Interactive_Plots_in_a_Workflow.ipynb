{
 "cells": [
  {
   "cell_type": "code",
   "execution_count": null,
   "metadata": {},
   "outputs": [],
   "source": [
    "import pandas as pd\n",
    "import param\n",
    "import numpy as np\n",
    "import holoviews as hv\n",
    "from holoviews import opts\n",
    "from functools import partial\n",
    "hv.extension('bokeh')"
   ]
  },
  {
   "cell_type": "markdown",
   "metadata": {},
   "source": [
    "# Streams as Part of a Workflow"
   ]
  },
  {
   "cell_type": "code",
   "execution_count": null,
   "metadata": {},
   "outputs": [],
   "source": [
    "data_file = '../data/iris.data'\n",
    "colnames = [\n",
    "    'sepal length',\n",
    "    'sepal width',\n",
    "    'petal length',\n",
    "    'petal width',\n",
    "    'species'\n",
    "]\n",
    "iris = pd.read_csv(data_file, names=colnames, index_col=False)\n",
    "iris.head()"
   ]
  },
  {
   "cell_type": "code",
   "execution_count": null,
   "metadata": {},
   "outputs": [],
   "source": [
    "# Get ranges for each numeric column\n",
    "istat = iris.describe()\n",
    "iranges = istat.apply(lambda col: (col['min'], col['max'])).to_dict()"
   ]
  },
  {
   "cell_type": "code",
   "execution_count": null,
   "metadata": {},
   "outputs": [],
   "source": [
    "# Compose main plot\n",
    "sepals = hv.Scatter(\n",
    "    iris,\n",
    "    kdims='sepal length',\n",
    "    vdims=[\n",
    "        'sepal width',\n",
    "        'species'\n",
    "    ])\n",
    "# Stream selection events from main plot\n",
    "selection = hv.streams.Selection1D(source=sepals)\n",
    "\n",
    "# Function to plot a histogram\n",
    "def plothist(index, col):\n",
    "    if index == []:\n",
    "        index = iris.index.tolist()\n",
    "    freq, edges = np.histogram(iris.loc[index, col], 20)\n",
    "    return hv.Histogram(\n",
    "        (edges, freq),\n",
    "        kdims=hv.Dimension(\n",
    "            'x',\n",
    "            label=col,\n",
    "            range=iranges[col])).relabel(col)\n",
    "\n",
    "# DynamicMap histogram plots using partials to specify column\n",
    "# Extra redim and norm to cause plots to autoscale with new data\n",
    "hist_list = []\n",
    "for col in ['sepal length', 'sepal width', 'petal length', 'petal width']:\n",
    "    hist_list.append(hv.DynamicMap(\n",
    "        partial(plothist, col=col),\n",
    "        streams=[selection])\\\n",
    "            .redim.range()\\\n",
    "            .opts(norm=dict(framewise=True)))\n",
    "\n",
    "# compose layout of 4 responsive plots\n",
    "layout = hv.Layout(hist_list).cols(2)"
   ]
  },
  {
   "cell_type": "markdown",
   "metadata": {},
   "source": [
    "### Make Selections"
   ]
  },
  {
   "cell_type": "code",
   "execution_count": null,
   "metadata": {},
   "outputs": [],
   "source": [
    "# Main Plot\n",
    "sepals.opts(color='species', cmap='Category10', size=6, width=400, height=400, tools=['box_select'])"
   ]
  },
  {
   "cell_type": "markdown",
   "metadata": {},
   "source": [
    "### Explore Selected Data"
   ]
  },
  {
   "cell_type": "code",
   "execution_count": null,
   "metadata": {},
   "outputs": [],
   "source": [
    "layout"
   ]
  },
  {
   "cell_type": "markdown",
   "metadata": {},
   "source": [
    "### Continue Analysis with Selected Data"
   ]
  },
  {
   "cell_type": "code",
   "execution_count": null,
   "metadata": {},
   "outputs": [],
   "source": [
    "iris.loc[selection.index]"
   ]
  },
  {
   "cell_type": "code",
   "execution_count": null,
   "metadata": {},
   "outputs": [],
   "source": []
  }
 ],
 "metadata": {
  "kernelspec": {
   "display_name": "Python 3",
   "language": "python",
   "name": "python3"
  },
  "language_info": {
   "codemirror_mode": {
    "name": "ipython",
    "version": 3
   },
   "file_extension": ".py",
   "mimetype": "text/x-python",
   "name": "python",
   "nbconvert_exporter": "python",
   "pygments_lexer": "ipython3",
   "version": "3.7.3"
  }
 },
 "nbformat": 4,
 "nbformat_minor": 2
}
