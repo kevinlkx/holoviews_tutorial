{
 "cells": [
  {
   "cell_type": "code",
   "execution_count": null,
   "metadata": {},
   "outputs": [],
   "source": [
    "import param\n",
    "import numpy as np\n",
    "import holoviews as hv\n",
    "from holoviews import opts\n",
    "\n",
    "hv.extension('bokeh', 'matplotlib')"
   ]
  },
  {
   "cell_type": "markdown",
   "metadata": {},
   "source": [
    "# Linked Streams\n",
    "\n",
    "There are several pre-defined linked stream classes provided by HoloViews which allow you to create interactions based on user actions in the browser. Many of these events occur natively in the browser and are available in JavaScript code. Bokeh, however, is more than a simple interactive plotting tool. There is a server component that can maintain 2-way communication with the generated plots. It captures events from the browser and transmits them back to the listening server. HoloViews provides these linked Stream classes and provides a way for you to define custom actions to take in response to user actions. A selection of them are shown here:\n",
    "\n",
    "* Plot Ranges\n",
    "  - `RangeX`, `RangeY`, and `RangeXY`\n",
    "* Pointer Location\n",
    "  - `PointerX`, `PointerY`, `PointerXY`\n",
    "* Mouse Events\n",
    "  - `Tap`, `DoubleTap`, `MouseEnter`, `MouseLeave`\n",
    "* Selections\n",
    "  - `Selection1D`, `BoundsX`, `BoundsXY`, `BoundsY`\n",
    "* PlotSize\n",
    "  - `PlotSize`\n",
    "* Drawing\n",
    "  - `BoxEdit`, `PointDraw`, `FreehandDraw`, `PolyDraw`, `PolyEdit`"
   ]
  },
  {
   "cell_type": "code",
   "execution_count": null,
   "metadata": {},
   "outputs": [],
   "source": [
    "# Create a stream to watch the mouse pointer\n",
    "pointer = hv.streams.PointerXY()\n",
    "# create a DynamicMap with a function to plot a single point and listen to our Stream\n",
    "pointer_dmap = hv.DynamicMap(lambda x, y: hv.Points([(x, y)]), streams=[pointer])\n",
    "pointer_dmap.opts(size=10)"
   ]
  },
  {
   "cell_type": "markdown",
   "metadata": {},
   "source": [
    "We can even examine the current contents of the `pointer` stream."
   ]
  },
  {
   "cell_type": "code",
   "execution_count": null,
   "metadata": {},
   "outputs": [],
   "source": [
    "pointer.contents"
   ]
  },
  {
   "cell_type": "markdown",
   "metadata": {},
   "source": [
    "# Explicit Linking\n",
    "\n",
    "In the example above, the source of the stream was automatically linked to the DynamicMap. We can also explicitly set the source. In this example we create two plots and set the source to one plot while using the coordinates to update the other plot."
   ]
  },
  {
   "cell_type": "code",
   "execution_count": null,
   "metadata": {},
   "outputs": [],
   "source": [
    "# Create a 2D image\n",
    "xvals = np.linspace(0,4,202)\n",
    "ys,xs = np.meshgrid(xvals, -xvals[::-1])\n",
    "img = hv.Image(np.sin(((ys)**3)*xs))\n",
    "\n",
    "# create a pointer and set its source\n",
    "pointer = hv.streams.PointerXY(x=0,y=0, source=img)\n",
    "\n",
    "# create plots\n",
    "pointer_dmap = hv.DynamicMap(lambda x, y: hv.Points([(x, y)]), streams=[pointer])\n",
    "pointer_dmap = pointer_dmap.redim.range(x=(-0.5,0.5), y=(-0.5,0.5))\n",
    "\n",
    "# compose plots\n",
    "img + pointer_dmap.opts(size=10)"
   ]
  },
  {
   "cell_type": "markdown",
   "metadata": {},
   "source": [
    "**This also works across cells in a jupyter notebook.**"
   ]
  },
  {
   "cell_type": "code",
   "execution_count": null,
   "metadata": {},
   "outputs": [],
   "source": [
    "# Create a 2D image\n",
    "xvals = np.linspace(0,4,202)\n",
    "ys,xs = np.meshgrid(xvals, -xvals[::-1])\n",
    "img = hv.Image(np.sin(((ys)**3)*xs))\n",
    "\n",
    "# create a pointer and set its source\n",
    "pointer = hv.streams.PointerXY(x=0,y=0, source=img)\n",
    "\n",
    "# create plots\n",
    "pointer_dmap = hv.DynamicMap(lambda x, y: hv.Points([(x, y)]), streams=[pointer])\n",
    "pointer_dmap = pointer_dmap.redim.range(x=(-0.5,0.5), y=(-0.5,0.5))\n",
    "\n",
    "img"
   ]
  },
  {
   "cell_type": "code",
   "execution_count": null,
   "metadata": {},
   "outputs": [],
   "source": [
    "pointer_dmap.opts(size=10)"
   ]
  },
  {
   "cell_type": "markdown",
   "metadata": {},
   "source": [
    "# Transient Streams\n",
    "\n",
    "Transient streams only have values when the event occurs and fall back to the default otherwise (usually `None`). "
   ]
  },
  {
   "cell_type": "code",
   "execution_count": null,
   "metadata": {},
   "outputs": [],
   "source": [
    "# create two streams to listen to Tap and DoubleTap events\n",
    "tap = hv.streams.SingleTap(transient=True)\n",
    "double_tap = hv.streams.DoubleTap(rename={'x': 'x2', 'y': 'y2'}, transient=True)\n",
    "\n",
    "# track each event and return plot with updated points\n",
    "taps = []\n",
    "def record_taps(x, y, x2, y2):\n",
    "    if None not in [x,y]:\n",
    "        taps.append((x, y, 1))\n",
    "    elif None not in [x2, y2]:\n",
    "        taps.append((x2, y2, 2))\n",
    "    return hv.Points(taps, vdims='Taps')\n",
    "\n",
    "# Provide DynamicMap with streams\n",
    "taps_dmap = hv.DynamicMap(record_taps, streams=[tap, double_tap])\n",
    "\n",
    "# Plot\n",
    "taps_dmap.opts(color='Taps', cmap={1: 'red', 2: 'gray'}, size=10, tools=['hover'])"
   ]
  },
  {
   "cell_type": "code",
   "execution_count": null,
   "metadata": {},
   "outputs": [],
   "source": [
    "taps"
   ]
  },
  {
   "cell_type": "code",
   "execution_count": null,
   "metadata": {},
   "outputs": [],
   "source": []
  }
 ],
 "metadata": {
  "kernelspec": {
   "display_name": "Python 3",
   "language": "python",
   "name": "python3"
  },
  "language_info": {
   "codemirror_mode": {
    "name": "ipython",
    "version": 3
   },
   "file_extension": ".py",
   "mimetype": "text/x-python",
   "name": "python",
   "nbconvert_exporter": "python",
   "pygments_lexer": "ipython3",
   "version": "3.7.3"
  }
 },
 "nbformat": 4,
 "nbformat_minor": 2
}
