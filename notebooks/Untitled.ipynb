{
 "cells": [
  {
   "cell_type": "code",
   "execution_count": null,
   "metadata": {},
   "outputs": [],
   "source": [
    "import pandas as pd\n",
    "import numpy as np\n",
    "import holoviews as hv\n",
    "hv.extension('bokeh')"
   ]
  },
  {
   "cell_type": "code",
   "execution_count": null,
   "metadata": {},
   "outputs": [],
   "source": [
    "data_file = '../data/iris.data'\n",
    "colnames = [\n",
    "    'sepal length',\n",
    "    'sepal width',\n",
    "    'petal length',\n",
    "    'petal width',\n",
    "    'species'\n",
    "]\n",
    "iris = pd.read_csv(data_file, names=colnames, index_col=False)\n",
    "iris.head()"
   ]
  },
  {
   "cell_type": "markdown",
   "metadata": {},
   "source": [
    "# Annotate data\n",
    "\n",
    "* Type - data type (int, float, string, or custom class)\n",
    "* Dimensions - these are dimensions in the context of the type of plot\n",
    "  * kdims - key dimensions (analagous to independent variable in math)\n",
    "  * vdims - value dimensions (analagous to dependent variable in math)\n",
    "* Group/Label - These annotations provide human-readable descriptions of elements that are used to label plots and select related sets of elements"
   ]
  },
  {
   "cell_type": "code",
   "execution_count": null,
   "metadata": {},
   "outputs": [],
   "source": [
    "# this is a very explicit way of annotating dimensions\n",
    "# among other things, type annotations occur here\n",
    "# the label annotation here is for the specific data column\n",
    "sepal_length = hv.Dimension('sepal length', label='Sepal length', type=float, unit='cm')\n",
    "sepal_width = hv.Dimension('sepal width', label='Sepal width', type=float, unit='cm')\n",
    "species = hv.Dimension('species', label='Iris species', type=str, values=iris['species'].unique().tolist())\n",
    "\n",
    "# key dimensions and value dimensions exist in the context of a plot\n",
    "# different plot types require different numbers of kdims and vdims\n",
    "# Group and Label annotations provided here bring context to each plot\n",
    "# when multiple plots are composed together\n",
    "sepals = hv.Scatter(\n",
    "    iris,\n",
    "    kdims=[sepal_length],\n",
    "    vdims=[sepal_width, species],\n",
    "    group='Iris',\n",
    "    label='Sepal dimensions')\n",
    "\n",
    "sepals.opts(color='species', cmap='Category10', width=400, height=400)\n",
    "\n",
    "sepals"
   ]
  },
  {
   "cell_type": "markdown",
   "metadata": {},
   "source": [
    "*Warning: HoloViews is a big project integrating several other rapidly evolving libraries. It can be tricky to get things working well. Here adding the `type` annotations activates a code path which is currently buggy. It's also not strictly necessary.*\n",
    "\n",
    "Your experience may vary depending on platform and whether you're using `conda` or `pip`."
   ]
  },
  {
   "cell_type": "markdown",
   "metadata": {},
   "source": [
    "## Help system\n",
    "\n",
    "HoloViews provides the `hv.help()` function which can give some guidance for how to use different features. It can also be used to examine existing plot elements."
   ]
  },
  {
   "cell_type": "code",
   "execution_count": null,
   "metadata": {
    "scrolled": true
   },
   "outputs": [],
   "source": [
    "hv.help(hv.Dimension)"
   ]
  },
  {
   "cell_type": "code",
   "execution_count": null,
   "metadata": {
    "scrolled": true
   },
   "outputs": [],
   "source": [
    "hv.help(sepal_length)"
   ]
  },
  {
   "cell_type": "markdown",
   "metadata": {},
   "source": [
    "# Composition"
   ]
  },
  {
   "cell_type": "code",
   "execution_count": null,
   "metadata": {},
   "outputs": [],
   "source": [
    "sepl_sepw = hv.Scatter(\n",
    "    iris,\n",
    "    kdims=('sepal length', 'Iris Sepal Length'),\n",
    "    vdims=[\n",
    "        ('sepal width', 'Width in cm'),\n",
    "        'species'\n",
    "    ],\n",
    "    group='Sepal Length',\n",
    "    label='Sepal Width')\n",
    "sepl_petw = hv.Scatter(\n",
    "    iris,\n",
    "    kdims=('sepal length', 'Iris Sepal Length'),\n",
    "    vdims = [\n",
    "        ('petal width', 'Width in cm'),\n",
    "        'species'\n",
    "    ],\n",
    "    group='Sepal Length',\n",
    "    label='Petal Width')\n",
    "\n",
    "sepl_sepw.opts(color='species', cmap='Category10', size=6, width=400, height=400)\n",
    "sepl_petw.opts(color='species', cmap='Category10', size=6, width=400, height=400, marker='square')\n",
    "\n",
    "# the '+' operator can combine multiple plots without restriction\n",
    "sepl_sepw + sepl_petw"
   ]
  },
  {
   "cell_type": "code",
   "execution_count": null,
   "metadata": {},
   "outputs": [],
   "source": [
    "# the '*' operator will overlay plots and so the plots must have a common set of kdims\n",
    "sepl_sepw * sepl_petw"
   ]
  },
  {
   "cell_type": "markdown",
   "metadata": {},
   "source": [
    "# Layout\n",
    "\n",
    "The `+` operator generates a `Layout`. When multiple plot elements in a layout share kdims, the axis on which they are plotted are linked for pan and zoom operations."
   ]
  },
  {
   "cell_type": "code",
   "execution_count": null,
   "metadata": {},
   "outputs": [],
   "source": [
    "# generate a list from 0 to 9.9 in steps of 0.1\n",
    "xs = [0.1* i for i in range(100)]\n",
    "\n",
    "# list of curve plots and a list of scatter plots; 2 of each\n",
    "# note here the dimension names are left as the default, x and y\n",
    "curve_list = [\n",
    "    hv.Curve((xs,\n",
    "              [np.sin(f*x) for x in xs]))\n",
    "    for f\n",
    "    in [0.5, 0.75]]\n",
    "scatter_list = [\n",
    "    hv.Scatter((xs[::5], f*np.linspace(0, 1, 20))) \n",
    "    for f \n",
    "    in [-0.5, 0.5]\n",
    "]\n",
    "\n",
    "# the addition of .cols(2) wraps the display at 2 columns\n",
    "layout = hv.Layout(curve_list + scatter_list).cols(2)\n",
    "layout"
   ]
  },
  {
   "cell_type": "code",
   "execution_count": null,
   "metadata": {},
   "outputs": [],
   "source": [
    "print(layout)"
   ]
  },
  {
   "cell_type": "code",
   "execution_count": null,
   "metadata": {},
   "outputs": [],
   "source": [
    "# components of the layout are individually addressable\n",
    "layout.Curve.I"
   ]
  },
  {
   "cell_type": "markdown",
   "metadata": {},
   "source": [
    "# Overlay\n",
    "\n",
    "The `*` operator creates an overlay. In order for this to work, the individual components must have kdims in common. "
   ]
  },
  {
   "cell_type": "code",
   "execution_count": null,
   "metadata": {},
   "outputs": [],
   "source": [
    "overlay = hv.Overlay(curve_list + scatter_list)\n",
    "overlay"
   ]
  },
  {
   "cell_type": "markdown",
   "metadata": {},
   "source": [
    "**Note:** The `+` operator here and in the `hv.Layout()` example above are operating on lists not hv objects. The code below uses the `*` to create an overlay from `hv` components and is compatible to calling `hv.Overlay()` with a list of components."
   ]
  },
  {
   "cell_type": "code",
   "execution_count": null,
   "metadata": {
    "scrolled": true
   },
   "outputs": [],
   "source": [
    "overlay = curve_list[0] * curve_list[1] * scatter_list[0] * scatter_list[1]\n",
    "overlay"
   ]
  },
  {
   "cell_type": "markdown",
   "metadata": {},
   "source": [
    "# Customizing with Options\n",
    "\n"
   ]
  },
  {
   "cell_type": "code",
   "execution_count": null,
   "metadata": {},
   "outputs": [],
   "source": [
    "sepals = hv.Scatter(\n",
    "    iris,\n",
    "    kdims='sepal length',\n",
    "    vdims=[\n",
    "        'sepal width',\n",
    "        'species'\n",
    "    ])\n",
    "petals = hv.Scatter(\n",
    "    iris,\n",
    "    kdims='petal length',\n",
    "    vdims = [\n",
    "        'petal width',\n",
    "        'species'\n",
    "    ])\n",
    "\n",
    "# Inline options\n",
    "sepals.opts(color='species', cmap='Category10', size=6, width=400, height=400)\n",
    "petals.opts(color='species', cmap='Category10', size=6, width=400, height=400)\n",
    "\n",
    "sepals + petals"
   ]
  },
  {
   "cell_type": "code",
   "execution_count": null,
   "metadata": {},
   "outputs": [],
   "source": [
    "# Here are plots with just the bare minimum specifying which data to use\n",
    "sepals = hv.Scatter(\n",
    "    iris,\n",
    "    kdims='sepal length',\n",
    "    vdims=[\n",
    "        'sepal width',\n",
    "        'species'\n",
    "    ])\n",
    "petals = hv.Scatter(\n",
    "    iris,\n",
    "    kdims='petal length',\n",
    "    vdims = [\n",
    "        'petal width',\n",
    "        'species'\n",
    "    ])\n",
    "\n",
    "# Create a layout with our two plots\n",
    "layout = sepals + petals\n",
    "layout"
   ]
  },
  {
   "cell_type": "code",
   "execution_count": null,
   "metadata": {},
   "outputs": [],
   "source": [
    "# options can be specified completely separately as an independent object\n",
    "scatteropts = hv.opts.Scatter(color='species', cmap='Category10', size=6, width=400, height=400)\n",
    "\n",
    "# then applied to layouts or plots\n",
    "layout.opts(scatteropts)\n",
    "layout"
   ]
  },
  {
   "cell_type": "code",
   "execution_count": null,
   "metadata": {},
   "outputs": [],
   "source": []
  },
  {
   "cell_type": "markdown",
   "metadata": {},
   "source": [
    "# Recap\n",
    "\n",
    "Holoviews is set up to create composable elements. This lets the user *separate concerns* in their code. The details of data can cleanly be separated from the details of a layout or styling. Conversely, not all components are required to be enumerated in full detail -- the library will get out of your way when you don't need all the control.\n",
    "\n",
    "* Dimensions with annotations\n",
    "  - as a tuple: ('dataname', 'Extended label')\n",
    "  - as a `hv.Dimension()`\n",
    "* Plot elements\n",
    "  - plot type\n",
    "  - data\n",
    "  - kdims\n",
    "  - vdims\n",
    "* Layouts and Overlays\n",
    "* Options\n",
    "\n",
    "There are other powerful components but"
   ]
  },
  {
   "cell_type": "code",
   "execution_count": null,
   "metadata": {},
   "outputs": [],
   "source": []
  }
 ],
 "metadata": {
  "kernelspec": {
   "display_name": "Python 3",
   "language": "python",
   "name": "python3"
  },
  "language_info": {
   "codemirror_mode": {
    "name": "ipython",
    "version": 3
   },
   "file_extension": ".py",
   "mimetype": "text/x-python",
   "name": "python",
   "nbconvert_exporter": "python",
   "pygments_lexer": "ipython3",
   "version": "3.7.3"
  }
 },
 "nbformat": 4,
 "nbformat_minor": 2
}
