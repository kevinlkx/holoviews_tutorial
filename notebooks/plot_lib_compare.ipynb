{
 "cells": [
  {
   "cell_type": "code",
   "execution_count": null,
   "metadata": {},
   "outputs": [],
   "source": [
    "import pandas as pd\n",
    "data_file = '../data/iris.data'\n",
    "colnames = [\n",
    "    'sepal length',\n",
    "    'sepal width',\n",
    "    'petal length',\n",
    "    'petal width',\n",
    "    'species'\n",
    "]\n",
    "iris = pd.read_csv(data_file, names=colnames, index_col=False)\n",
    "iris.head()"
   ]
  },
  {
   "cell_type": "markdown",
   "metadata": {},
   "source": [
    "# Matplotlib"
   ]
  },
  {
   "cell_type": "code",
   "execution_count": null,
   "metadata": {},
   "outputs": [],
   "source": [
    "import matplotlib.pyplot as plt\n",
    "# this enables inline plotting in the notebook\n",
    "%matplotlib inline"
   ]
  },
  {
   "cell_type": "markdown",
   "metadata": {},
   "source": [
    "Matplotlib is a well established plotting solution. It is very powerful and can produce high quality figures for publication in a variety of static output formats. It was initially modeled after plotting commands in MatLab and now has an object oriented plotting API in which successive functions are applied to the currently active plot.\n",
    "\n",
    "For simply exploring data it provides a fairly simple interface."
   ]
  },
  {
   "cell_type": "code",
   "execution_count": null,
   "metadata": {},
   "outputs": [],
   "source": [
    "# Simplest use case\n",
    "plt.scatter(\n",
    "    data=iris,\n",
    "    x='sepal length',\n",
    "    y='sepal width'\n",
    ")"
   ]
  },
  {
   "cell_type": "markdown",
   "metadata": {},
   "source": [
    "Unfortunately, the amount of code needed to achieve many things can quickly escalate. For example if you want to map a categorical data column to colors, you would need to do so manually:"
   ]
  },
  {
   "cell_type": "code",
   "execution_count": null,
   "metadata": {},
   "outputs": [],
   "source": [
    "# color maps in matplotlib map a numeric value to a color\n",
    "# scmap will map a species to a number -- used for plotting \n",
    "# revscmap will map that number back to the species -- used for legend\n",
    "\n",
    "# get a list of unique species\n",
    "species = iris['species'].unique().tolist()\n",
    "nspecies = len(species)\n",
    "# get a colormap with the same number of colors from a pre-defined colormap\n",
    "cmap = plt.cm.get_cmap('YlGnBu', nspecies)\n",
    "# forward and reverse dicts of species to numeric index\n",
    "scmap = {s: c for s, c in zip(species, range(len(species)))}\n",
    "revscmap = {c: s for c, s in zip(range(len(species)), species)}\n",
    "\n",
    "fig, ax = plt.subplots(figsize=(8, 6))\n",
    "\n",
    "im = ax.scatter(\n",
    "    data=iris,\n",
    "    x='sepal length',\n",
    "    y='sepal width',\n",
    "    c=iris['species'].map(scmap),\n",
    "    cmap=cmap,\n",
    "    linewidths=1, edgecolors='grey'\n",
    ")\n",
    "\n",
    "# set title and axis labels\n",
    "fig.suptitle('Iris Dataset')\n",
    "ax.set_xlabel('sepal length')\n",
    "ax.set_ylabel('sepal width')\n",
    "\n",
    "# formatter to label the colorbar with species names\n",
    "formatter = plt.FuncFormatter(lambda val, loc: revscmap[val])\n",
    "\n",
    "# fig.colorbar(ticks=range(len(species)), format=formatter)\n",
    "fig.colorbar(im, ax=ax, ticks=range(len(species)), format=formatter)\n",
    "\n",
    "plt.show()"
   ]
  },
  {
   "cell_type": "markdown",
   "metadata": {},
   "source": [
    "An easier way could be to separate your data by category and plot each subset in turn."
   ]
  },
  {
   "cell_type": "code",
   "execution_count": null,
   "metadata": {},
   "outputs": [],
   "source": [
    "species_list = []\n",
    "for species, grp in iris.groupby('species'):\n",
    "    plt.plot(\n",
    "        grp['sepal length'],\n",
    "        grp['sepal width'],\n",
    "        label=species,\n",
    "        linestyle='None',\n",
    "        marker='.'\n",
    "    )\n",
    "    species_list.append(species)\n",
    "\n",
    "plt.figlegend(species_list, loc='upper right', bbox_to_anchor=(0.853, 0.85))\n",
    "plt.show()"
   ]
  },
  {
   "cell_type": "markdown",
   "metadata": {},
   "source": [
    "# Bokeh"
   ]
  },
  {
   "cell_type": "markdown",
   "metadata": {},
   "source": [
    "Bokeh generates *dynamic* plots. Although the code you write is in python, Bokeh generates a json object containing data and plot specification. This is then used by the Bokeh javascript component to create an interactive visualization in a web browser. All these steps happen quite transparently in a Jupyter notebook environment. \n",
    "\n",
    "One weakness here is that it is more challenging to create a publication-quality image."
   ]
  },
  {
   "cell_type": "code",
   "execution_count": null,
   "metadata": {},
   "outputs": [],
   "source": [
    "from bokeh.io import output_notebook\n",
    "from bokeh.plotting import figure, show\n",
    "from bokeh.models import ColumnDataSource\n",
    "from bokeh.transform import factor_cmap\n",
    "# this enables inline plotting in the notebook\n",
    "output_notebook()"
   ]
  },
  {
   "cell_type": "code",
   "execution_count": null,
   "metadata": {},
   "outputs": [],
   "source": [
    "source = ColumnDataSource(iris)\n",
    "species_list = iris['species'].unique().tolist()\n",
    "p = figure(title='Iris Dataset')\n",
    "p.circle(x='sepal length', y='sepal width', source=source, size=10,\n",
    "         legend='species',\n",
    "         color=factor_cmap('species', 'Category10_3', species_list))\n",
    "show(p)"
   ]
  },
  {
   "cell_type": "markdown",
   "metadata": {},
   "source": [
    "# Plotly\n",
    "\n",
    "Plotly is another library for generating interactive visualizations. It is fairly similar to Bokeh in that respect but can also generate 3D visualizations. Though as we will see later it lacks other functionality from Bokeh.\n",
    "\n",
    "Although the Python and JavaScript libraries are open source, they are created by and associated with an online service for collaboratieve charts and dashboards. You do *not* need to use these services and can use Plotly in 'offline' mode."
   ]
  },
  {
   "cell_type": "code",
   "execution_count": null,
   "metadata": {},
   "outputs": [],
   "source": [
    "import plotly.graph_objs as go\n",
    "from plotly.offline import init_notebook_mode, iplot\n",
    "# this enables inline plotting in the notebook\n",
    "init_notebook_mode(connected=True)"
   ]
  },
  {
   "cell_type": "code",
   "execution_count": null,
   "metadata": {},
   "outputs": [],
   "source": [
    "# Basic plotting\n",
    "data = go.Scatter(\n",
    "    x=iris['sepal length'],\n",
    "    y=iris['sepal width'],\n",
    "    mode='markers'\n",
    ")\n",
    "iplot([data])"
   ]
  },
  {
   "cell_type": "markdown",
   "metadata": {},
   "source": [
    "Plotly like matplotlib does not make it easy to map a categorical column to a color palette easily, but successive calls to `go.Scatter()` will achieve our goal."
   ]
  },
  {
   "cell_type": "code",
   "execution_count": null,
   "metadata": {},
   "outputs": [],
   "source": [
    "data = []\n",
    "for species, grp in iris.groupby('species'):\n",
    "    data.append(\n",
    "        go.Scatter(\n",
    "            x=grp['sepal length'],\n",
    "            y=grp['sepal width'],\n",
    "            mode='markers',\n",
    "            name=species))\n",
    "\n",
    "iplot(data)"
   ]
  },
  {
   "cell_type": "markdown",
   "metadata": {},
   "source": [
    "# HoloViews"
   ]
  },
  {
   "cell_type": "markdown",
   "metadata": {},
   "source": [
    "HoloViews bridges these plotting backends and lets you switch *relatively* easily between them.\n",
    "\n",
    "At the time of writing HoloViews version 1.12.1 was the stable release. Concurrently Plotly's offline API had some internal changes which broke the integration. It's been fixed in the development but that patch has not been pushed to release yet so I won't include any more Plotly stuff here."
   ]
  },
  {
   "cell_type": "code",
   "execution_count": null,
   "metadata": {},
   "outputs": [],
   "source": [
    "import holoviews as hv\n",
    "hv.extension('bokeh', 'matplotlib')"
   ]
  },
  {
   "cell_type": "code",
   "execution_count": null,
   "metadata": {},
   "outputs": [],
   "source": [
    "hv.Scatter(iris)"
   ]
  },
  {
   "cell_type": "code",
   "execution_count": null,
   "metadata": {
    "scrolled": false
   },
   "outputs": [],
   "source": [
    "points = hv.Points(iris).opts(\n",
    "    color='species', cmap='Category10', size=8, width=600, height=400)\n",
    "points"
   ]
  },
  {
   "cell_type": "markdown",
   "metadata": {},
   "source": [
    "With a little extra effort we can convert this to a satatic image. \n",
    "\n",
    "The differences in plotting back-ends can be automatically bridged to some extent by HoloViews. For example here, we did not have to manually map the species names to values and then map those values to a colormap. HoloViews had already done that for us. On the other hand there is still a sizeable difference in the APIs that is not (yet) bridged. In this case our color legend and size information are completely lost while the tick marks and label formatting are different."
   ]
  },
  {
   "cell_type": "code",
   "execution_count": null,
   "metadata": {},
   "outputs": [],
   "source": [
    "# specify matplotlib as the backend for the already existing 'points' object\n",
    "# specify a matplotlib-generated png as the final image container\n",
    "hv.output(\n",
    "    points.opts(backend='matplotlib'),\n",
    "    backend='matplotlib',\n",
    "    fig='png')"
   ]
  },
  {
   "cell_type": "markdown",
   "metadata": {},
   "source": [
    "However, this is not the main purpose behind HoloViews..."
   ]
  },
  {
   "cell_type": "code",
   "execution_count": null,
   "metadata": {},
   "outputs": [],
   "source": []
  }
 ],
 "metadata": {
  "kernelspec": {
   "display_name": "Python 3",
   "language": "python",
   "name": "python3"
  },
  "language_info": {
   "codemirror_mode": {
    "name": "ipython",
    "version": 3
   },
   "file_extension": ".py",
   "mimetype": "text/x-python",
   "name": "python",
   "nbconvert_exporter": "python",
   "pygments_lexer": "ipython3",
   "version": "3.7.3"
  }
 },
 "nbformat": 4,
 "nbformat_minor": 2
}
